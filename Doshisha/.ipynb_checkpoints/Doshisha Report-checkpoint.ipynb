{
 "cells": [
  {
   "cell_type": "code",
   "execution_count": 7,
   "metadata": {},
   "outputs": [],
   "source": [
    "import pandas as pd"
   ]
  },
  {
   "cell_type": "markdown",
   "metadata": {},
   "source": [
    "## 卒業生の進路"
   ]
  },
  {
   "cell_type": "code",
   "execution_count": 10,
   "metadata": {},
   "outputs": [
    {
     "data": {
      "text/html": [
       "<div>\n",
       "<style scoped>\n",
       "    .dataframe tbody tr th:only-of-type {\n",
       "        vertical-align: middle;\n",
       "    }\n",
       "\n",
       "    .dataframe tbody tr th {\n",
       "        vertical-align: top;\n",
       "    }\n",
       "\n",
       "    .dataframe thead th {\n",
       "        text-align: right;\n",
       "    }\n",
       "</style>\n",
       "<table border=\"1\" class=\"dataframe\">\n",
       "  <thead>\n",
       "    <tr style=\"text-align: right;\">\n",
       "      <th></th>\n",
       "      <th>大分類</th>\n",
       "      <th>小分類</th>\n",
       "      <th>就職</th>\n",
       "      <th>大学院進学</th>\n",
       "      <th>留学・ その他進学</th>\n",
       "      <th>公務員・教員・資 格・再受験</th>\n",
       "      <th>大学院等への進 学準備</th>\n",
       "      <th>その他</th>\n",
       "      <th>不明者</th>\n",
       "      <th>合計\n",
       "（卒業者）</th>\n",
       "    </tr>\n",
       "  </thead>\n",
       "  <tbody>\n",
       "    <tr>\n",
       "      <th>0</th>\n",
       "      <td>学部</td>\n",
       "      <td>文科系</td>\n",
       "      <td>4,363</td>\n",
       "      <td>227</td>\n",
       "      <td>43</td>\n",
       "      <td>164</td>\n",
       "      <td>21</td>\n",
       "      <td>147</td>\n",
       "      <td>244</td>\n",
       "      <td>5,209</td>\n",
       "    </tr>\n",
       "    <tr>\n",
       "      <th>1</th>\n",
       "      <td>学部</td>\n",
       "      <td>理工系</td>\n",
       "      <td>420</td>\n",
       "      <td>560</td>\n",
       "      <td>5</td>\n",
       "      <td>14</td>\n",
       "      <td>3</td>\n",
       "      <td>10</td>\n",
       "      <td>2</td>\n",
       "      <td>1,014</td>\n",
       "    </tr>\n",
       "    <tr>\n",
       "      <th>2</th>\n",
       "      <td>学部</td>\n",
       "      <td>小計</td>\n",
       "      <td>4,783</td>\n",
       "      <td>787</td>\n",
       "      <td>48</td>\n",
       "      <td>178</td>\n",
       "      <td>24</td>\n",
       "      <td>157</td>\n",
       "      <td>246</td>\n",
       "      <td>6,223</td>\n",
       "    </tr>\n",
       "    <tr>\n",
       "      <th>3</th>\n",
       "      <td>大学院</td>\n",
       "      <td>文科系</td>\n",
       "      <td>157</td>\n",
       "      <td>52</td>\n",
       "      <td>4</td>\n",
       "      <td>68</td>\n",
       "      <td>2</td>\n",
       "      <td>39</td>\n",
       "      <td>47</td>\n",
       "      <td>369</td>\n",
       "    </tr>\n",
       "    <tr>\n",
       "      <th>4</th>\n",
       "      <td>大学院</td>\n",
       "      <td>理工系</td>\n",
       "      <td>413</td>\n",
       "      <td>21</td>\n",
       "      <td>0</td>\n",
       "      <td>4</td>\n",
       "      <td>0</td>\n",
       "      <td>7</td>\n",
       "      <td>1</td>\n",
       "      <td>446</td>\n",
       "    </tr>\n",
       "  </tbody>\n",
       "</table>\n",
       "</div>"
      ],
      "text/plain": [
       "   大分類  小分類     就職  大学院進学  留学・ その他進学  公務員・教員・資 格・再受験  大学院等への進 学準備  その他  不明者  \\\n",
       "0   学部  文科系  4,363    227         43             164           21  147  244   \n",
       "1   学部  理工系    420    560          5              14            3   10    2   \n",
       "2   学部   小計  4,783    787         48             178           24  157  246   \n",
       "3  大学院  文科系    157     52          4              68            2   39   47   \n",
       "4  大学院  理工系    413     21          0               4            0    7    1   \n",
       "\n",
       "  合計\\n（卒業者）  \n",
       "0     5,209  \n",
       "1     1,014  \n",
       "2     6,223  \n",
       "3       369  \n",
       "4       446  "
      ]
     },
     "execution_count": 10,
     "metadata": {},
     "output_type": "execute_result"
    }
   ],
   "source": [
    "graduates = pd.read_csv(\"data/graduates.csv\")\n",
    "graduates.head()"
   ]
  },
  {
   "cell_type": "code",
   "execution_count": null,
   "metadata": {},
   "outputs": [],
   "source": []
  }
 ],
 "metadata": {
  "kernelspec": {
   "display_name": "Python 3",
   "language": "python",
   "name": "python3"
  },
  "language_info": {
   "codemirror_mode": {
    "name": "ipython",
    "version": 3
   },
   "file_extension": ".py",
   "mimetype": "text/x-python",
   "name": "python",
   "nbconvert_exporter": "python",
   "pygments_lexer": "ipython3",
   "version": "3.6.8"
  }
 },
 "nbformat": 4,
 "nbformat_minor": 2
}
